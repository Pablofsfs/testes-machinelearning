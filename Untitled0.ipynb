{
  "nbformat": 4,
  "nbformat_minor": 0,
  "metadata": {
    "colab": {
      "provenance": [],
      "authorship_tag": "ABX9TyPq+3g334a0rLLbv86KN+ED",
      "include_colab_link": true
    },
    "kernelspec": {
      "name": "python3",
      "display_name": "Python 3"
    },
    "language_info": {
      "name": "python"
    }
  },
  "cells": [
    {
      "cell_type": "markdown",
      "metadata": {
        "id": "view-in-github",
        "colab_type": "text"
      },
      "source": [
        "<a href=\"https://colab.research.google.com/github/Pablofsfs/testes-machinelearning/blob/main/Untitled0.ipynb\" target=\"_parent\"><img src=\"https://colab.research.google.com/assets/colab-badge.svg\" alt=\"Open In Colab\"/></a>"
      ]
    },
    {
      "cell_type": "code",
      "execution_count": 5,
      "metadata": {
        "colab": {
          "base_uri": "https://localhost:8080/"
        },
        "id": "Ejh97o9OLRHV",
        "outputId": "1a041065-bd43-428c-f37f-a90967b028ed"
      },
      "outputs": [
        {
          "output_type": "stream",
          "name": "stdout",
          "text": [
            "Preço previsto: 200000.0\n"
          ]
        },
        {
          "output_type": "stream",
          "name": "stderr",
          "text": [
            "/usr/local/lib/python3.11/dist-packages/sklearn/utils/validation.py:2739: UserWarning: X does not have valid feature names, but LinearRegression was fitted with feature names\n",
            "  warnings.warn(\n"
          ]
        }
      ],
      "source": [
        "#Supervisionado\n",
        "#Exemplo1\n",
        "# Importar bibliotecas\n",
        "import pandas as pd\n",
        "from sklearn.linear_model import LinearRegression\n",
        "\n",
        "# Criar um pequeno conjunto de dados\n",
        "dados = pd.DataFrame({\n",
        "    \"area\": [50, 60, 70, 80, 90],        # área da casa em m²\n",
        "    \"quartos\": [1, 2, 2, 3, 3],          # número de quartos\n",
        "    \"preco\": [150000, 200000, 250000, 300000, 350000]  # preço da casa\n",
        "})\n",
        "\n",
        "# Separar variáveis de entrada (X) e saída (y)\n",
        "X = dados[[\"area\", \"quartos\"]]\n",
        "y = dados[\"preco\"]\n",
        "\n",
        "# Criar e treinar o modelo\n",
        "modelo = LinearRegression()\n",
        "modelo.fit(X, y)\n",
        "\n",
        "# Fazer uma previsão\n",
        "nova_casa = [[60, 4]]\n",
        "previsao = modelo.predict(nova_casa)\n",
        "print(\"Preço previsto:\", previsao[0])\n",
        "\n"
      ]
    },
    {
      "cell_type": "code",
      "source": [
        "#Exemplo2\n",
        "from sklearn.tree import DecisionTreeClassifier\n",
        "\n",
        "# Dados fictícios: [idade, pressão arterial]\n",
        "dados = [[25, 120], [45, 140], [35, 130], [50, 160], [23, 110]]\n",
        "rotulos = [\"saudável\", \"doente\", \"saudável\", \"doente\", \"saudável\"]\n",
        "\n",
        "# Criar modelo de Árvore de Decisão\n",
        "modelo = DecisionTreeClassifier()\n",
        "modelo.fit(dados, rotulos)\n",
        "\n",
        "# Prever novo paciente\n",
        "novo_paciente = [[25, 110]]\n",
        "previsao = modelo.predict(novo_paciente)\n",
        "print(\"Diagnóstico previsto:\", previsao[0])"
      ],
      "metadata": {
        "colab": {
          "base_uri": "https://localhost:8080/"
        },
        "id": "7RM_VAWvLw86",
        "outputId": "f1587ae7-d2b9-44d8-9f2e-ad829b82fe82"
      },
      "execution_count": 7,
      "outputs": [
        {
          "output_type": "stream",
          "name": "stdout",
          "text": [
            "Diagnóstico previsto: saudável\n"
          ]
        }
      ]
    },
    {
      "cell_type": "code",
      "source": [
        "#Exemplo3\n",
        "from sklearn.feature_extraction.text import CountVectorizer\n",
        "from sklearn.naive_bayes import MultinomialNB\n",
        "\n",
        "# Base de dados simples\n",
        "emails = [\"Promoção imperdível, clique agora!\",\n",
        "          \"Vagas Disponíveis dia: 19/08\",\n",
        "          \"Plataforma Nova, venha resgatar seu bônus\",\n",
        "          \"Reunião de trabalho amanhã às 10h\",\n",
        "          \"Você ganhou um prêmio, acesse já, bet69.com!\",\n",
        "          \"Confirmação de consulta médica\"]\n",
        "\n",
        "rotulos = [\"spam\", \"não_spam\",\"spam\", \"não_spam\", \"spam\", \"não_spam\"]\n",
        "\n",
        "# Converter textos em vetores numéricos\n",
        "vetorizador = CountVectorizer()\n",
        "X = vetorizador.fit_transform(emails)\n",
        "\n",
        "# Criar modelo Naive Bayes\n",
        "modelo = MultinomialNB()\n",
        "modelo.fit(X, rotulos)\n",
        "\n",
        "# Testar com novo email\n",
        "novo_email = [\"Site novo com bônus\"]\n",
        "X_novo = vetorizador.transform(novo_email)\n",
        "print(\"Classificação:\", modelo.predict(X_novo)[0])"
      ],
      "metadata": {
        "colab": {
          "base_uri": "https://localhost:8080/"
        },
        "id": "GVmPf4JJNNxz",
        "outputId": "fea36400-e96a-447b-88c7-bc21fd2002d0"
      },
      "execution_count": 16,
      "outputs": [
        {
          "output_type": "stream",
          "name": "stdout",
          "text": [
            "Classificação: spam\n"
          ]
        }
      ]
    },
    {
      "cell_type": "code",
      "source": [
        "#Exemplo2\n",
        "from sklearn.decomposition import PCA\n",
        "import numpy as np\n",
        "\n",
        "# Criar dados com 3 dimensões\n",
        "dados = np.random.rand(10, 3)\n",
        "\n",
        "# Reduzir para 2 dimensões\n",
        "pca = PCA(n_components=2)\n",
        "dados_reduzidos = pca.fit_transform(dados)\n",
        "\n",
        "print(\"Dados originais:\\n\", dados)\n",
        "print(\"\\nDados reduzidos:\\n\", dados_reduzidos)\n"
      ],
      "metadata": {
        "colab": {
          "base_uri": "https://localhost:8080/"
        },
        "id": "pvoBuBvITP1r",
        "outputId": "f04a980f-d3ff-4f67-8ea2-ce26609490d9"
      },
      "execution_count": 17,
      "outputs": [
        {
          "output_type": "stream",
          "name": "stdout",
          "text": [
            "Dados originais:\n",
            " [[0.57890103 0.84071925 0.57791935]\n",
            " [0.8768868  0.34280714 0.97427614]\n",
            " [0.17192679 0.00742452 0.96952757]\n",
            " [0.02575593 0.03006079 0.47413343]\n",
            " [0.67987719 0.49120988 0.57959991]\n",
            " [0.12525062 0.55417485 0.95703152]\n",
            " [0.03810437 0.03959527 0.31742076]\n",
            " [0.18081242 0.23260121 0.77312528]\n",
            " [0.68386832 0.81502617 0.87011003]\n",
            " [0.70183475 0.51830151 0.40180822]]\n",
            "\n",
            "Dados reduzidos:\n",
            " [[ 0.4126536  -0.17886991]\n",
            " [ 0.35497602  0.23892815]\n",
            " [-0.38269413  0.3433169 ]\n",
            " [-0.54838173 -0.13413874]\n",
            " [ 0.25188206 -0.14801119]\n",
            " [-0.05184804  0.27403963]\n",
            " [-0.55664731 -0.29136746]\n",
            " [-0.25485615  0.12289347]\n",
            " [ 0.5157244   0.10223594]\n",
            " [ 0.25919126 -0.32902679]]\n"
          ]
        }
      ]
    },
    {
      "cell_type": "code",
      "source": [
        "\n",
        "#Exemplo3\n",
        "from sklearn.feature_extraction.text import TfidfVectorizer\n",
        "from sklearn.cluster import KMeans\n",
        "\n",
        "# Documentos de exemplo\n",
        "documentos = [\n",
        "    \"Gosto de futebol e esportes\",\n",
        "    \"O time venceu o campeonato\",\n",
        "    \"Receitas de bolo e sobremesas\",\n",
        "    \"Adoro cuzinhar doces e massas\",\n",
        "    \" Morango do amor com pescoço\"\n",
        "]\n",
        "\n",
        "# Converter em vetores numéricos\n",
        "vetorizar = TfidfVectorizer()\n",
        "X = vetorizar.fit_transform(documentos)\n",
        "\n",
        "# Aplicar K-Means com 2 clusters\n",
        "modelo = KMeans(n_clusters=2, random_state=42)\n",
        "modelo.fit(X)\n",
        "\n",
        "print(\"Cluster de cada documento:\", modelo.labels_)"
      ],
      "metadata": {
        "colab": {
          "base_uri": "https://localhost:8080/"
        },
        "id": "P3FFPsOiTYh5",
        "outputId": "f677a8ef-5972-4ed6-fe67-f7ebaf9f5ed9"
      },
      "execution_count": 18,
      "outputs": [
        {
          "output_type": "stream",
          "name": "stdout",
          "text": [
            "Cluster de cada documento: [1 0 1 1 1]\n"
          ]
        }
      ]
    },
    {
      "cell_type": "code",
      "source": [
        "#Exemplo1\n",
        "from sklearn.cluster import KMeans\n",
        "import numpy as np\n",
        "\n",
        "# Dados: [idade, compras por mês]\n",
        "clientes = np.array([[20, 3], [25, 4], [30, 6], [40, 20], [45, 22], [50, 25]])\n",
        "\n",
        "# Aplicar K-Means (2 grupos)\n",
        "modelo = KMeans(n_clusters=2, random_state=42)\n",
        "modelo.fit(clientes)\n",
        "\n",
        "# Ver a qual grupo cada cliente pertence\n",
        "print(\"Grupos dos clientes:\", modelo.labels_)\n"
      ],
      "metadata": {
        "colab": {
          "base_uri": "https://localhost:8080/"
        },
        "id": "SjLx7E1ON874",
        "outputId": "6e782153-afb7-4b2e-af10-a7e5e730aeb5"
      },
      "execution_count": 13,
      "outputs": [
        {
          "output_type": "stream",
          "name": "stdout",
          "text": [
            "Grupos dos clientes: [0 0 0 1 1 1]\n"
          ]
        }
      ]
    },
    {
      "cell_type": "code",
      "source": [
        "\n",
        "#Por Reforço\n",
        "#exemplo1\n",
        "import random\n",
        "\n",
        "posicao = 0  # posição inicial\n",
        "objetivo = 5  # meta\n",
        "\n",
        "for episodio in range(10):\n",
        "    acao = random.choice([-1, 1])  # mover esquerda ou direita\n",
        "    posicao += acao\n",
        "    recompensa = 1 if posicao == objetivo else -0.1\n",
        "    print(f\"Episódio {episodio+1} | Posição: {posicao} | Recompensa: {recompensa}\")\n"
      ],
      "metadata": {
        "id": "Z3hX-FYad58M"
      },
      "execution_count": null,
      "outputs": []
    },
    {
      "cell_type": "code",
      "source": [
        "#exemplo2\n",
        "import numpy as np\n",
        "\n",
        "# Estados: 0 = início, 1 = perto do objetivo, 2 = objetivo\n",
        "q_tabela = np.zeros((3, 2))  # 3 estados, 2 ações (esquerda, direita)\n",
        "\n",
        "taxa_aprendizado = 0.5\n",
        "desconto = 0.9\n",
        "\n",
        "for episodio in range(20):\n",
        "    estado = 0\n",
        "    while estado != 2:\n",
        "        acao = np.random.choice([0, 1])  # 0 = esquerda, 1 = direita\n",
        "        if estado == 0 and acao == 1: proximo_estado, recompensa = 1, 0\n",
        "        elif estado == 1 and acao == 1: proximo_estado, recompensa = 2, 1\n",
        "        else: proximo_estado, recompensa = 0, -0.1\n",
        "        q_tabela[estado, acao] += taxa_aprendizado * (recompensa + desconto * np.max(q_tabela[proximo_estado]) - q_tabela[estado, acao])\n",
        "        estado = proximo_estado\n",
        "\n",
        "print(\"Q-Tabela aprendida:\\n\", q_tabela)\n"
      ],
      "metadata": {
        "id": "Q99jkXrreCVk"
      },
      "execution_count": null,
      "outputs": []
    },
    {
      "cell_type": "code",
      "source": [
        "#exemplo3\n",
        "import numpy as np\n",
        "\n",
        "recompensas_reais = [0.1, 0.5, 0.9]  # chances de recompensa em cada \"braço\"\n",
        "valores_estimados = [0, 0, 0]\n",
        "contagem_acoes = [0, 0, 0]\n",
        "\n",
        "for passo in range(50):\n",
        "    acao = np.random.choice([0, 1, 2])  # escolher um braço\n",
        "    recompensa = 1 if np.random.rand() < recompensas_reais[acao] else 0\n",
        "    contagem_acoes[acao] += 1\n",
        "    valores_estimados[acao] += (recompensa - valores_estimados[acao]) / contagem_acoes[acao]\n",
        "\n",
        "print(\"Valores estimados após 50 jogadas:\", valores_estimados)"
      ],
      "metadata": {
        "id": "JE3McJEkeFYc"
      },
      "execution_count": null,
      "outputs": []
    }
  ]
}